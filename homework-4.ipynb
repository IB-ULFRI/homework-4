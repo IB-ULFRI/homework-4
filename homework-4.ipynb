{
 "cells": [
  {
   "cell_type": "markdown",
   "metadata": {},
   "source": [
    "# Homework 4: SARS-CoV-2 variants\n",
    "\n",
    "Viruses are not immune to mutations and evolution.\n",
    "During the pandemic, SARS-CoV-2 viruses mutated, evolved, and changed their characteristics.\n",
    "This is how we got a variety of new strains and variants.\n",
    "\n",
    "To understand how quickly new strains evolve, we have to know how fast they mutate.\n",
    "Next, we will compare the rate of mutations to other viruses to get a sense of the speed.\n",
    "Observing where mutations occur will give us a sense of what new variants are all about.\n",
    "Then, we will focus on Slovenia and its landscape of variants throughout the pandemic."
   ]
  },
  {
   "cell_type": "code",
   "execution_count": null,
   "metadata": {},
   "outputs": [],
   "source": [
    "import numpy as np          \n",
    "import pandas as pd         # for saving classification in P4\n",
    "from Bio import SeqIO       # for reading fasta files"
   ]
  },
  {
   "cell_type": "markdown",
   "metadata": {},
   "source": [
    "## Problem 1: Rate of mutation\n",
    "\n",
    "One question we may want to ask ourselves is, \"How fast is this virus evolving\"? Can we empirically determine the speed of mutation? We can! Most biologists are very meticulous with their experiments and carefully document when any sample was collected. We can then take a bunch of viral genomes, select a reference genome (usually the first known occurrence of the virus), and calculate the number of mutations from the reference to the remaining viral genomes. We can then use this information in conjunction with the sample collection dates to estimate how fast the viruses are evolving.\n",
    "\n",
    "**Task:**\n",
    "Implement the `jukes_cantor` function in `helper_functions.py` to calculate the genetic distance using Hamming distance and Jukes-Cantor correction. Note that Jukes-Cantor correction ignores insertions and deletions.\n",
    "\n",
    "You are given 211 SARS-CoV-2 genomes aligned to the reference (_NC_045512.2_).\n",
    "You can find their collection date and country in their fasta description.\n",
    "\n",
    "Find the first collected instance of SARS-CoV-2 i.e., the virus with the earliest collection date. We'll use our NCBI reference (_NC_045512.2_) as a reference virus.\n",
    "You can use a pandas function `pd.to_datetime()` to convert collection dates into a Timestamp. Timestamps without the day of the month will be converted into the first day of the month.\n",
    "\n",
    "Calculate the genetic distance from the reference sequence to all other sequences and plot its dependence on the time elapsed from this starting point.\n",
    "\n",
    "Create a scatterplot of viruses, where you put genetic distance on the y-axis and time in days (the number of days since the starting point) on your x-axis. The earliest sequence -- starting point -- should be located at the origin (0, 0).\n",
    "Estimate the rate of the mutation using linear regression and overlay your plot with the regression line.\n",
    "\n",
    "Report the rate of mutation per genome per day and save it into the `sars_cov_2_per_genome_per_day` variable. \n",
    "Report also the rate of mutation per nucleotide per day and save it into the `sars_cov_2_per_nt_per_day` variable. \n",
    "Save the resulting figure into `problem1.png`.\n",
    "\n",
    "**[10 points]** \n",
    "\n",
    "Hint: check out `np.polyfit` to fit the linear regression curve. Include your reference in the linear fit and account for the intersection when plotting your fit."
   ]
  },
  {
   "cell_type": "code",
   "execution_count": null,
   "metadata": {},
   "outputs": [],
   "source": [
    "# TODO"
   ]
  },
  {
   "cell_type": "code",
   "execution_count": null,
   "metadata": {},
   "outputs": [],
   "source": [
    "sars_cov_2_per_genome_per_day = 0.0 \n",
    "sars_cov_2_per_nt_per_day = 0.0"
   ]
  },
  {
   "cell_type": "markdown",
   "metadata": {},
   "source": [
    "## Problem 2: Mutation rate in other viruses\n",
    "\n",
    "We've estimated the regression slope to SARS-CoV-2. Now what? Does the plot indicate a fast mutation rate? Or a slow mutation rate? Or an average mutation rate? We really can't tell without a frame of reference. In this exercise, we will look at two more viruses from recent outbreaks, the Zaire ebolavirus, and Zika virus, and determine their rate of mutation. These will help us get some kind of reference for the speed at which viruses mutate.\n",
    "\n",
    "**Task:**\n",
    "Find the aligned sequences for Ebola and Zika virus in the `data/p2-ebola-viruses.fasta` and `data/p2-zika-viruses.fasta`.\n",
    "Use the first viral genomes in files as the reference as these are the earliest known and sequenced viruses.\n",
    "Follow the same procedure as in Problem 1 to estimate the slope of the regression line. \n",
    "\n",
    "Since these viruses have been around for longer than SARS-CoV-2, they are more diverse and the distances between them may be larger.\n",
    "This can be observed if the reference sequence is at the origin, but the others start much higher i.e., the line fitting the remaining sequences doesn't go through the origin but is shifted higher up.\n",
    "In this case, ignore the reference sequence when fitting the regression lines.\n",
    "\n",
    "Report the genome and nucleotide rate of mutation of both viruses and save them into their corresponding variables (`ebola_per_genome_per_day`, `ebola_per_nt_per_day` and `zika_per_genome_per_day`, `zika_per_nt_per_day`).\n",
    "\n",
    "Given this reference frame, how fast is SARS-CoV-2 mutating? Which of those viruses sticks out in terms of the mutation rate? Examine the ratios of the slopes. Can you find anything on the internet that would corroborate these rates of mutations? Write your observations into the `mutation_comments` variable.\n",
    "**[10 points]** \n",
    "\n",
    "**Why do these two reference viruses?** SARS-CoV-2 is in a unique position where it is a worldwide phenomenon and warrants a huge global response. As such, SARS-CoV-2 is most likely the most well-documented and tracked virus of all time. Even five years ago, sequencing on this scale would have been impossible. This creates a problem when we want to compare the rate of mutation with other viruses. We need reference viruses that have gone through a similar lifecycle to SARS-CoV-2 and need to be recent enough such that there is sufficient sequencing data to properly estimate the slopes. Unfortunately for us (but thankfully for humanity), there are only a handful of viruses that fit this description (https://en.wikipedia.org/wiki/List_of_epidemics). Additionally, some developing countries still do not have the technological or economic capability to carry out this sequencing on a large scale, making reliable data to come by. We have chosen the Ebola virus and Zika virus, as their sequencing data is more or less reliable and plentiful enough."
   ]
  },
  {
   "cell_type": "code",
   "execution_count": null,
   "metadata": {},
   "outputs": [],
   "source": [
    "# TODO"
   ]
  },
  {
   "cell_type": "code",
   "execution_count": null,
   "metadata": {},
   "outputs": [],
   "source": [
    "ebola_per_genome_per_day = 0.0 \n",
    "ebola_per_nt_per_day = 0.0\n",
    "\n",
    "zika_per_genome_per_day = 0.0 \n",
    "zika_per_nt_per_day = 0.0"
   ]
  },
  {
   "cell_type": "code",
   "execution_count": null,
   "metadata": {},
   "outputs": [],
   "source": [
    "mutation_comments = \"\"\"\n",
    "\"\"\""
   ]
  },
  {
   "cell_type": "markdown",
   "metadata": {},
   "source": [
    "## Problem 3: Variant-specific mutations\n",
    "\n",
    "As the virus mutates, it inevitably evolves and proliferates around the world. Every so often, some mutations may prove especially beneficial to the spread of the virus, and this version of the virus spreads faster than other versions. When a version of a virus becomes especially prevalent inside a population, we call this a virus *variant*. Variants are nothing more than a naming scheme for viruses that have certain mutations. For instance, in Slovenia, we are currently predominantly dealing with the Omicron variant. Think of this as observing natural selection in real time. Some viruses have mutations that enable them to spread more easily throughout our population, which inevitably leads to the demise of other virus variants, which are not good at spreading. This is survival of the fittest at the viral level, where, unfortunately, the fittest viruses seem to cause the most damage to us humans.\n",
    "\n",
    "So, how do we identify variants? A variant is determined by several so-called *defining mutations*. Mutations can either be synonymous or nonsynonymous. Synonymous mutations are changes in nucleotide bases that result in the same encoded amino acid and are generally not interesting. Nonsynonymous mutations are nucleotide mutations that alter the amino acid sequence of a protein.\n",
    "\n",
    "To determine mutations, we first have to select a reference genome, which we will say has no mutations. In most cases, this is the first known occurrence of the virus, in our case, the reference NCBI genome from Wuhan in 2019 (_NC_045512.2_).\n",
    "Then, we align each viral genome of interest to this reference genome. All the differences between the reference genome and the genome of interest are said to be mutations.\n",
    "\n",
    "To get a sense of how these mutations are distributed across the genome in a variant, we will observe the most common mutations in **Alpha** (20I (Alpha, V1)) and **Delta** (21A (Delta)) strains. We will try to answer the question, of whether the Delta strain evolved from the Alpha strain or evolved independently.\n",
    "\n",
    "**Task:**\n",
    "Use pre-aligned sequences from the file `data/p1-sars-cov-2-variants.fasta`. These sequences are aligned to the reference (_NC_045512.2_) such that the reference has no indels. Extract Alpha and Delta variants according to the indices in lists `alpha_variants` and `delta_variants`, respectively.\n",
    "\n",
    "Calculate the Hamming distance between each sequence and the reference. For both variants, the average mutation rate for each nucleotide to get an array of mutation occurrences between 0 and 1.\n",
    "\n",
    "Plot the mutation occurrences across the whole genome for the Alpha and Delta variants separately on the same figure. Use _plt.plot_ to show the occurrence. Focus on the part of the genome above the 20000 nucleotides and mark where some of the SARS-CoV-2 genes are located. You can find gene locations in the `gene_locations` variable. You should get a few sites with occurrence 1 and the rest close to zero.\n",
    "\n",
    "We say that a mutation is significant if its occurrence is higher than 0.5. Find all significant mutations that occur on the spike gene (\"S\") and compare results between variants. There are a few sites where both variants mutated but only one site, where the same mutation occurred.\n",
    "\n",
    "Store your plot in the `problem3.png` and make it visually appealing.\n",
    "Store all sites on the S gene where mutations occurred in both variants, in a `mutations_in_both_variants` variable.\n",
    "Store the only same mutation into the `same_mutation` variable as a string denoting reference nucleotide, mutation site, and the variant nucleotide (i.e. \"G123A\", where G on position 123 in the reference mutates into an A.)\n",
    "\n",
    "Write your comments in the `variant_comments` variable. Did the Delta variant evolve from Alpha? Why are not all mutations present in both variants? Why are mutations not distributed uniformly?"
   ]
  },
  {
   "cell_type": "code",
   "execution_count": null,
   "metadata": {},
   "outputs": [],
   "source": [
    "gene_locations = {\n",
    "    'S': (21462, 25284),\n",
    "    'E': (26144, 26372),\n",
    "    'M': (26422, 27091),\n",
    "    'N': (28173, 29433)\n",
    "}"
   ]
  },
  {
   "cell_type": "code",
   "execution_count": null,
   "metadata": {},
   "outputs": [],
   "source": [
    "# TODO"
   ]
  },
  {
   "cell_type": "code",
   "execution_count": null,
   "metadata": {},
   "outputs": [],
   "source": [
    "mutations_in_both_variants = [1,2,3]\n",
    "same_mutation = \"G123A\" # write your mutation in the form of f\"{reference nt}{site number}{variant nt}\""
   ]
  },
  {
   "cell_type": "code",
   "execution_count": null,
   "metadata": {},
   "outputs": [],
   "source": [
    "variant_comments=\"\"\"\n",
    "\"\"\""
   ]
  },
  {
   "cell_type": "markdown",
   "metadata": {},
   "source": [
    "## Problem 4: Identifying variants\n",
    "\n",
    "As we've seen, mutations are not distributed uniformly across the genome. Important mutations at specific sites distinguish variants from each other. Nonsynonymous mutations are also reflected in the proteins they produce.\n",
    "\n",
    "A common convention is to denote mutations using a short string e.g. *S:T 19 R*. The first part denotes the protein where the mutation has occurred. The second part is comprised of the actual mutation. For instance, *S:T 19 R* means that we are looking at a mutation on the S -- spike protein, where the original amino acid at location 19 was T -- threonine, which was changed to R -- arginine. The \"-\" symbol indicates a deletion (e.g. *S:H 69 -*). For a complete reference of SARS-CoV-2 mutations, you can take a look at https://covariants.org, and look through the different variants. We will not consider insertions in this homework, as it would only complicate our lives.\n",
    "\n",
    "The folks over at the Clinical Institute of Special Laboratory Diagnostics have been kind enough to provide us with SARS-CoV-2 sequences from Slovenia for more than two years of the pandemic. In this homework, we will take a handful of these SARS-CoV-2 genomes from Slovenia and look at how the different variants spread throughout our country over time.\n",
    "We will again focus on the spike protein sequence as this will speed up computation.\n",
    "Additionally, the spike protein sequence is the most interesting in terms of variants, as mutations on the spike protein directly affect its ability to spread throughout our population and potentially get around our vaccination efforts.\n",
    "\n",
    "**Task**\n",
    "\n",
    "You are given 747 SARS-CoV-2 spike protein sequences collected from Slovenia at various time points (`data/p4-slo-spike-proteins.fasta`). We have pre-aligned these sequences to the reference Wuhan-2019 SARS-CoV-2 spike protein, so your only job is to determine which variant each sequence belongs to. We have also prepared a JSON file (*variants.json*) containing all the information on SARS-CoV-2 variants that you'll need in this homework. Use the variant names and nonsynonymous mutations defined in this file for your classification.\n",
    "\n",
    "Your task is to look through each of the provided SARS-Cov-2 sequences and assign it to a variant.\n",
    "To assign a variant, count the number of corresponding mutations on the spike protein sequence.\n",
    "You should assign the variant which has the highest percentage of matching mutations to a given variant. If all the variants have a match rate lower or equal to 50%, then you should assign the genome to the *UNKNOWN* class. If a sequence has no mutations, assign it to the *NO_MUTATIONS* class. Save your answers to `problem4-classification.csv`. This file should contain two columns. The first column should indicate the accession id, e.g., *EPI_ISL_635200*, while the second column should indicate the variant display name (as specified in variants.json), e.g., *20I (Alpha, V1)* or *21K (Omicron)*. The CSV file should have no header. **[5 points]**\n",
    "\n",
    "After you have assigned all the sequences to a variant, create a plot showing the change of distribution over time. More concretely, we have given you up to 20 sequences per month. Calculate the percentage of each variant in each month, and plot the distribution over time. Your plots should resemble https://covariants.org/per-country, which you can use to validate your work. Note that your plot will probably have a lot of *UNKNOWN* viral assignments. Save your figure into `problem4.png`. **[5 points]** \n",
    "\n",
    "**Hints**: Use [`plt.stackplot`](https://matplotlib.org/3.1.1/api/_as_gen/matplotlib.pyplot.stackplot.html) for plotting. You might also find the pandas [`Grouper`](https://pandas.pydata.org/docs/reference/api/pandas.Grouper.html) class helpful when calculating percentages per month.\n",
    "\n",
    "**Notes**:\n",
    "\n",
    "1. Due to the fast nature of the sequencing done in these sequences, some sequences may contain the character \"X\". This character does not denote some new amino acid but means that the sequencing was ambiguous and/or that the amino acid wasn't able to be determined. You should ignore any positions with the \"X\" character, and these should not count toward mutations.\n",
    "\n",
    "2. You are welcome to come up with your classification scheme if you like. I've filtered out some variants from `variants.json`, which are harder to assign, but you can find the full mutation list at https://github.com/hodcroftlab/covariants/blob/master/scripts/clusters.py. If you come up with your classification scheme and can assign more variants than your classmates, you'll be awarded extra points.\n",
    "\n",
    "3. Although you could perform the alignment yourself with the algorithms you implemented in Homework 2, in this exercise, we have already pre-aligned the viral genomes for you to avoid any long-running computation. In this homework, we will only consider substitutions and deletions, and we will ignore insertions. The reason is that insertions tend to complicate our lives and that almost all of the variants for SARS-CoV-2 aren't determined by insertions."
   ]
  },
  {
   "cell_type": "code",
   "execution_count": null,
   "metadata": {},
   "outputs": [],
   "source": [
    "# TODO"
   ]
  },
  {
   "cell_type": "markdown",
   "metadata": {},
   "source": [
    "## Bonus 1: Kimura two-parameter correction (K2P)\n",
    "\n",
    "Kimura's two-parameter model is a more elaborate approach to correcting genetic distances. It assumes that transitions are 4 times less likely to occur than transversion, thus weighing those substitutions differently. The model still ignores insertions and deletions.\n",
    "\n",
    "**Task:**\n",
    "Implement `kimura_two_parameter` in the `helper_functions.py` to calculate the Kimura correction of genetic distance.\n",
    "Recalculate the rate of mutation for SARS-CoV-2 as in Problem 1, this time with Kimura corrected distances. Follow the same protocol from Problem 1 and store both rates of mutation into their appropriate variables `sars_cov_2_per_genome_per_day_kp2` and `sars_cov_2_per_nt_per_day_k2p`, respectively.\n",
    "Comment on the difference between Jukes-Cantor and Kimura corrections and how this difference shows in our case. Save your comment into the `kimura_comment` variable."
   ]
  },
  {
   "cell_type": "code",
   "execution_count": null,
   "metadata": {},
   "outputs": [],
   "source": [
    "# TODO"
   ]
  },
  {
   "cell_type": "code",
   "execution_count": null,
   "metadata": {},
   "outputs": [],
   "source": [
    "sars_cov_2_per_genome_per_day_kp2 = 0.0\n",
    "sars_cov_2_per_nt_per_day_k2p = 0.0"
   ]
  },
  {
   "cell_type": "code",
   "execution_count": null,
   "metadata": {},
   "outputs": [],
   "source": [
    "kimura_comment = \"\"\"\n",
    "\"\"\""
   ]
  }
 ],
 "metadata": {
  "language_info": {
   "name": "python"
  },
  "orig_nbformat": 4
 },
 "nbformat": 4,
 "nbformat_minor": 2
}
